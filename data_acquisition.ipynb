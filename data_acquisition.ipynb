{
 "cells": [
  {
   "cell_type": "markdown",
   "metadata": {},
   "source": [
    "# Data Acquisition"
   ]
  },
  {
   "cell_type": "markdown",
   "metadata": {},
   "source": [
    "## Initialization"
   ]
  },
  {
   "cell_type": "markdown",
   "metadata": {},
   "source": [
    "Import standard scraping/processing packages:"
   ]
  },
  {
   "cell_type": "code",
   "execution_count": 2,
   "metadata": {},
   "outputs": [],
   "source": [
    "import numpy as np\n",
    "import pandas as pd\n",
    "import dill\n",
    "import requests\n",
    "import datetime\n",
    "import geopandas as gpd\n",
    "import matplotlib.pyplot as plt\n",
    "import seaborn as sns\n",
    "import matplotlib\n",
    "import networkx as nx\n",
    "import tqdm\n",
    "import os\n",
    "\n",
    "from itertools import combinations\n",
    "from requests_futures.sessions import FuturesSession\n",
    "\n",
    "matplotlib.rcParams['figure.dpi'] = 144\n",
    "%matplotlib inline\n",
    "sns.set()"
   ]
  },
  {
   "cell_type": "markdown",
   "metadata": {},
   "source": [
    "Sensitive information is stored in the user-defined private_data."
   ]
  },
  {
   "cell_type": "code",
   "execution_count": 3,
   "metadata": {},
   "outputs": [],
   "source": [
    "from private_data import API_keys\n",
    "\n",
    "secret_keys=API_keys()"
   ]
  },
  {
   "cell_type": "markdown",
   "metadata": {},
   "source": [
    "## Power Station Meta Data"
   ]
  },
  {
   "cell_type": "markdown",
   "metadata": {},
   "source": [
    "The power demand for MAXWEL comes from the Energy Information Agency (EIA) API. The EIA houses data for about NUMBER HERE power stations, substations, and  regional conglomerates.  I have selected 50\n",
    "stations to model."
   ]
  },
  {
   "cell_type": "code",
   "execution_count": 4,
   "metadata": {},
   "outputs": [
    {
     "data": {
      "text/html": [
       "<div>\n",
       "<style scoped>\n",
       "    .dataframe tbody tr th:only-of-type {\n",
       "        vertical-align: middle;\n",
       "    }\n",
       "\n",
       "    .dataframe tbody tr th {\n",
       "        vertical-align: top;\n",
       "    }\n",
       "\n",
       "    .dataframe thead th {\n",
       "        text-align: right;\n",
       "    }\n",
       "</style>\n",
       "<table border=\"1\" class=\"dataframe\">\n",
       "  <thead>\n",
       "    <tr style=\"text-align: right;\">\n",
       "      <th></th>\n",
       "      <th>station_tag</th>\n",
       "      <th>city</th>\n",
       "      <th>longitude</th>\n",
       "      <th>latitude</th>\n",
       "      <th>timezone</th>\n",
       "    </tr>\n",
       "  </thead>\n",
       "  <tbody>\n",
       "    <tr>\n",
       "      <th>0</th>\n",
       "      <td>CPLW</td>\n",
       "      <td>Charlotte, NC</td>\n",
       "      <td>-80.843127</td>\n",
       "      <td>35.227087</td>\n",
       "      <td>America/New_York</td>\n",
       "    </tr>\n",
       "    <tr>\n",
       "      <th>1</th>\n",
       "      <td>NYIS</td>\n",
       "      <td>Rensselaer, NY</td>\n",
       "      <td>-73.510773</td>\n",
       "      <td>42.709139</td>\n",
       "      <td>America/New_York</td>\n",
       "    </tr>\n",
       "    <tr>\n",
       "      <th>2</th>\n",
       "      <td>GCPD</td>\n",
       "      <td>Moses Lake, WA</td>\n",
       "      <td>-119.278077</td>\n",
       "      <td>47.130142</td>\n",
       "      <td>America/Los_Angeles</td>\n",
       "    </tr>\n",
       "    <tr>\n",
       "      <th>3</th>\n",
       "      <td>LGEE</td>\n",
       "      <td>Louisville, KY</td>\n",
       "      <td>-85.759407</td>\n",
       "      <td>38.254238</td>\n",
       "      <td>America/Kentucky/Louisville</td>\n",
       "    </tr>\n",
       "    <tr>\n",
       "      <th>4</th>\n",
       "      <td>TVA</td>\n",
       "      <td>Belfast, TN</td>\n",
       "      <td>-86.702498</td>\n",
       "      <td>35.420907</td>\n",
       "      <td>America/Chicago</td>\n",
       "    </tr>\n",
       "  </tbody>\n",
       "</table>\n",
       "</div>"
      ],
      "text/plain": [
       "  station_tag            city   longitude   latitude  \\\n",
       "0        CPLW   Charlotte, NC  -80.843127  35.227087   \n",
       "1        NYIS  Rensselaer, NY  -73.510773  42.709139   \n",
       "2        GCPD  Moses Lake, WA -119.278077  47.130142   \n",
       "3        LGEE  Louisville, KY  -85.759407  38.254238   \n",
       "4         TVA     Belfast, TN  -86.702498  35.420907   \n",
       "\n",
       "                      timezone  \n",
       "0             America/New_York  \n",
       "1             America/New_York  \n",
       "2          America/Los_Angeles  \n",
       "3  America/Kentucky/Louisville  \n",
       "4              America/Chicago  "
      ]
     },
     "execution_count": 4,
     "metadata": {},
     "output_type": "execute_result"
    }
   ],
   "source": [
    "station_metadata_df=pd.read_csv(\"Data/Metadata/station_meta_data.csv\")\n",
    "station_metadata_df[['station_tag','city','longitude','latitude','timezone']].head()"
   ]
  },
  {
   "cell_type": "markdown",
   "metadata": {},
   "source": [
    "This generates a map of the stations being modeled, note the stations are spread across the country."
   ]
  },
  {
   "cell_type": "code",
   "execution_count": 5,
   "metadata": {},
   "outputs": [
    {
     "data": {
      "image/png": "[encoded data removed]",
      "text/plain": [
       "<Figure size 432x288 with 1 Axes>"
      ]
     },
     "metadata": {},
     "output_type": "display_data"
    }
   ],
   "source": [
    "station_metadata_gdf = gpd.GeoDataFrame(\n",
    "    station_metadata_df, \n",
    "    geometry=gpd.points_from_xy(station_metadata_df.longitude,\n",
    "                                station_metadata_df.latitude))\n",
    "\n",
    "world = gpd.read_file(gpd.datasets.get_path('naturalearth_lowres'))\n",
    "\n",
    "ax = world[world.name == 'United States of America'].plot(\n",
    "    color='white', edgecolor='black')\n",
    "\n",
    "station_metadata_gdf.plot(ax=ax, color='red')\n",
    "\n",
    "plt.xlim([-130,-60])\n",
    "plt.ylim([24,50])\n",
    "plt.xlabel('Longitude')\n",
    "plt.ylabel('Latitude')\n",
    "plt.title('Power Station Locations');"
   ]
  },
  {
   "cell_type": "markdown",
   "metadata": {},
   "source": [
    "This dataframe also contains interchange connections, that is, which powerstations will exchange power when necessary."
   ]
  },
  {
   "cell_type": "code",
   "execution_count": 6,
   "metadata": {},
   "outputs": [
    {
     "data": {
      "text/html": [
       "<div>\n",
       "<style scoped>\n",
       "    .dataframe tbody tr th:only-of-type {\n",
       "        vertical-align: middle;\n",
       "    }\n",
       "\n",
       "    .dataframe tbody tr th {\n",
       "        vertical-align: top;\n",
       "    }\n",
       "\n",
       "    .dataframe thead th {\n",
       "        text-align: right;\n",
       "    }\n",
       "</style>\n",
       "<table border=\"1\" class=\"dataframe\">\n",
       "  <thead>\n",
       "    <tr style=\"text-align: right;\">\n",
       "      <th></th>\n",
       "      <th>station_tag</th>\n",
       "      <th>interchange_1</th>\n",
       "      <th>interchange_2</th>\n",
       "      <th>interchange_3</th>\n",
       "      <th>interchange_4</th>\n",
       "      <th>interchange_5</th>\n",
       "      <th>interchange_6</th>\n",
       "      <th>interchange_7</th>\n",
       "      <th>interchange_8</th>\n",
       "      <th>interchange_9</th>\n",
       "      <th>interchange_10</th>\n",
       "      <th>interchange_11</th>\n",
       "      <th>interchange_12</th>\n",
       "      <th>interchange_13</th>\n",
       "      <th>interchange_14</th>\n",
       "      <th>interchange_15</th>\n",
       "    </tr>\n",
       "  </thead>\n",
       "  <tbody>\n",
       "    <tr>\n",
       "      <th>0</th>\n",
       "      <td>CPLW</td>\n",
       "      <td>TVA</td>\n",
       "      <td>DUK</td>\n",
       "      <td>PJM</td>\n",
       "      <td>Null</td>\n",
       "      <td>Null</td>\n",
       "      <td>Null</td>\n",
       "      <td>Null</td>\n",
       "      <td>Null</td>\n",
       "      <td>Null</td>\n",
       "      <td>Null</td>\n",
       "      <td>Null</td>\n",
       "      <td>Null</td>\n",
       "      <td>Null</td>\n",
       "      <td>Null</td>\n",
       "      <td>Null</td>\n",
       "    </tr>\n",
       "    <tr>\n",
       "      <th>1</th>\n",
       "      <td>NYIS</td>\n",
       "      <td>ISNE</td>\n",
       "      <td>PJM</td>\n",
       "      <td>Null</td>\n",
       "      <td>Null</td>\n",
       "      <td>Null</td>\n",
       "      <td>Null</td>\n",
       "      <td>Null</td>\n",
       "      <td>Null</td>\n",
       "      <td>Null</td>\n",
       "      <td>Null</td>\n",
       "      <td>Null</td>\n",
       "      <td>Null</td>\n",
       "      <td>Null</td>\n",
       "      <td>Null</td>\n",
       "      <td>Null</td>\n",
       "    </tr>\n",
       "    <tr>\n",
       "      <th>2</th>\n",
       "      <td>GCPD</td>\n",
       "      <td>AVA</td>\n",
       "      <td>BPAT</td>\n",
       "      <td>PACW</td>\n",
       "      <td>PSEI</td>\n",
       "      <td>Null</td>\n",
       "      <td>Null</td>\n",
       "      <td>Null</td>\n",
       "      <td>Null</td>\n",
       "      <td>Null</td>\n",
       "      <td>Null</td>\n",
       "      <td>Null</td>\n",
       "      <td>Null</td>\n",
       "      <td>Null</td>\n",
       "      <td>Null</td>\n",
       "      <td>Null</td>\n",
       "    </tr>\n",
       "    <tr>\n",
       "      <th>3</th>\n",
       "      <td>LGEE</td>\n",
       "      <td>TVA</td>\n",
       "      <td>MISO</td>\n",
       "      <td>Null</td>\n",
       "      <td>PJM</td>\n",
       "      <td>Null</td>\n",
       "      <td>Null</td>\n",
       "      <td>Null</td>\n",
       "      <td>Null</td>\n",
       "      <td>Null</td>\n",
       "      <td>Null</td>\n",
       "      <td>Null</td>\n",
       "      <td>Null</td>\n",
       "      <td>Null</td>\n",
       "      <td>Null</td>\n",
       "      <td>Null</td>\n",
       "    </tr>\n",
       "    <tr>\n",
       "      <th>4</th>\n",
       "      <td>TVA</td>\n",
       "      <td>AECI</td>\n",
       "      <td>CPLW</td>\n",
       "      <td>DUK</td>\n",
       "      <td>LGEE</td>\n",
       "      <td>MISO</td>\n",
       "      <td>PJM</td>\n",
       "      <td>SOCO</td>\n",
       "      <td>Null</td>\n",
       "      <td>Null</td>\n",
       "      <td>Null</td>\n",
       "      <td>Null</td>\n",
       "      <td>Null</td>\n",
       "      <td>Null</td>\n",
       "      <td>Null</td>\n",
       "      <td>Null</td>\n",
       "    </tr>\n",
       "  </tbody>\n",
       "</table>\n",
       "</div>"
      ],
      "text/plain": [
       "  station_tag interchange_1 interchange_2 interchange_3 interchange_4  \\\n",
       "0        CPLW           TVA           DUK           PJM          Null   \n",
       "1        NYIS          ISNE           PJM          Null          Null   \n",
       "2        GCPD           AVA          BPAT          PACW          PSEI   \n",
       "3        LGEE           TVA          MISO          Null           PJM   \n",
       "4         TVA          AECI          CPLW           DUK          LGEE   \n",
       "\n",
       "  interchange_5 interchange_6 interchange_7 interchange_8 interchange_9  \\\n",
       "0          Null          Null          Null          Null          Null   \n",
       "1          Null          Null          Null          Null          Null   \n",
       "2          Null          Null          Null          Null          Null   \n",
       "3          Null          Null          Null          Null          Null   \n",
       "4          MISO           PJM          SOCO          Null          Null   \n",
       "\n",
       "  interchange_10 interchange_11 interchange_12 interchange_13 interchange_14  \\\n",
       "0           Null           Null           Null           Null           Null   \n",
       "1           Null           Null           Null           Null           Null   \n",
       "2           Null           Null           Null           Null           Null   \n",
       "3           Null           Null           Null           Null           Null   \n",
       "4           Null           Null           Null           Null           Null   \n",
       "\n",
       "  interchange_15  \n",
       "0           Null  \n",
       "1           Null  \n",
       "2           Null  \n",
       "3           Null  \n",
       "4           Null  "
      ]
     },
     "execution_count": 6,
     "metadata": {},
     "output_type": "execute_result"
    }
   ],
   "source": [
    "station_metadata_df[['station_tag']+[f'interchange_{i}' for i in range(1,16)]].head()"
   ]
  },
  {
   "cell_type": "markdown",
   "metadata": {},
   "source": [
    "Generate and display the interchange graph, plotted using each stations coordinates."
   ]
  },
  {
   "cell_type": "code",
   "execution_count": 7,
   "metadata": {},
   "outputs": [
    {
     "data": {
      "image/png": "[encoded data removed]",
      "text/plain": [
       "<Figure size 432x288 with 1 Axes>"
      ]
     },
     "metadata": {},
     "output_type": "display_data"
    }
   ],
   "source": [
    "G=nx.Graph()\n",
    "pos={}\n",
    "for i in station_metadata_df.index:\n",
    "    name=station_metadata_df['station_tag'].loc[i]\n",
    "    pos[name]=(station_metadata_df['longitude'].loc[i],\n",
    "               station_metadata_df['latitude'].loc[i])\n",
    "    \n",
    "    \n",
    "    for j in range(1,16):\n",
    "        temp=station_metadata_df[f'interchange_{j}'].loc[i]\n",
    "        if temp!='Null':\n",
    "            if not G.has_edge(name,temp):\n",
    "                G.add_edge(name,temp)\n",
    "nx.draw(G, with_labels=False,pos=pos)"
   ]
  },
  {
   "cell_type": "markdown",
   "metadata": {},
   "source": [
    "##  Power Demand Data"
   ]
  },
  {
   "cell_type": "markdown",
   "metadata": {},
   "source": [
    "The request reponses are timecoded using the ISO date standard, and contain the consumer demand, the day-ahead forecasted demand, and the net generation."
   ]
  },
  {
   "cell_type": "code",
   "execution_count": null,
   "metadata": {},
   "outputs": [],
   "source": [
    "start_date='1/1/2018'\n",
    "end_date='7/29/2019'\n",
    "\n",
    "idx=pd.date_range(start=start_date, end=end_date,freq='H')\n",
    "\n",
    "names=dill.load(open('Jar/station_tags.pkl','rb'))\n",
    "\n",
    "pull_keys=['D','DF','NG']\n",
    "\n",
    "base_url=\"https://api.eia.gov/series/?\""
   ]
  },
  {
   "cell_type": "markdown",
   "metadata": {},
   "source": [
    "Pull the data we want from the EIA API and save it to a dataframe."
   ]
  },
  {
   "cell_type": "code",
   "execution_count": null,
   "metadata": {},
   "outputs": [],
   "source": [
    "demand_pull_dict={}\n",
    "\n",
    "for name in tqdm.tqdm_notebook(names):\n",
    "    for key in pull_keys:\n",
    "        pull=requests.get(base_url,\n",
    "                          params={'api_key':secret_keys._EIA,\n",
    "                                  'series_id':f'EBA.{name}-ALL.{key}.H'\n",
    "                                  }).json()\n",
    "        \n",
    "        temp_array=np.asarray(pull['series'][0]['data'])\n",
    "        temp_time=temp_array[:,0]\n",
    "        temp_time=np.asarray(list(map(lambda x:\n",
    "                                 datetime.datetime.strptime(x, \"%Y%m%dT%HZ\"), \n",
    "                                 list(temp_time))))\n",
    "        \n",
    "        demand_pull_dict[f'{name}_{key}']=pd.Series(temp_array[:,1],\n",
    "                                                    index=temp_time\n",
    "                                                    ).reindex(\n",
    "                                                    idx,\n",
    "                                                    fill_value=0) \n",
    "\n",
    "EIA_demand_df=pd.concat([demand_pull_dict[key].rename(key) \n",
    "                     for key \n",
    "                     in demand_pull_dict],axis=1)\n",
    "EIA_demand_df.to_csv('Data/Demand_Data/Raw_Data/EIA_demand_data.csv')"
   ]
  },
  {
   "cell_type": "markdown",
   "metadata": {},
   "source": [
    "## Weather Data"
   ]
  },
  {
   "cell_type": "markdown",
   "metadata": {},
   "source": [
    "The weather data I'm collecting comes from the Dark Sky API, which allows 1000 free calls everyday.  I keep track of 44 cities (as some stations I'm modeling are in the same city) so I extract about 20 days of weather data with the following functions."
   ]
  },
  {
   "cell_type": "code",
   "execution_count": 3,
   "metadata": {},
   "outputs": [],
   "source": [
    "station_metadata_df=pd.read_csv(\"Data/Metadata/station_meta_data.csv\")\n",
    "\n",
    "def pull_all_from_date(time):\n",
    "    \"\"\"Saves weather data for the tracked cities for the input day\"\"\"\n",
    "    # Convert to string\n",
    "    time_string=time.strftime(\"%Y-%m-%d\")\n",
    "     \n",
    "    # Try to make a new directory for the data\n",
    "    new_dir=f'./Data/Weather_Data/Raw_Data/{time_string}'\n",
    "    try:\n",
    "        os.makedirs(new_dir)\n",
    "    except:\n",
    "        print('Overwriting existing directory')\n",
    "    \n",
    "    # Setup variables\n",
    "    city_names=list(map(lambda x:x.split(',')[0],station_metadata_df['city'].unique()))\n",
    "    timestamp=int(datetime.datetime.timestamp(time))\n",
    "    city_to_coords=station_metadata_df[['city','latitude','longitude']].set_index('city').drop_duplicates().to_dict('index')\n",
    "    \n",
    "    # Spin up a futures session\n",
    "    session = FuturesSession(max_workers=10)\n",
    "    DS_url='https://api.darksky.net/forecast'\n",
    "    responses={\n",
    "        key: session.get(\n",
    "             f'{DS_url}/{secret_keys._DS}/{city_to_coords[key][\"latitude\"]},{city_to_coords[key][\"longitude\"]},{timestamp}?',\n",
    "             params={'extend':'hourly'}) \n",
    "        for key in city_to_coords.keys()}\n",
    "    \n",
    "    # Process and output the API responses\n",
    "    for key in responses.keys():\n",
    "        city=key.split(',')[0]\n",
    "        try:\n",
    "            data_dict=responses[key].result().json()['hourly']['data']\n",
    "            df=pd.DataFrame(data_dict)\n",
    "            df['location']=city\n",
    "            df['time']=pd.to_datetime(df['time'],unit='s')\n",
    "            df.to_csv(f'{new_dir}/{city}.csv')\n",
    "        except:\n",
    "            raise Exception('Dark Sky call limit exceeded.')\n",
    "        \n",
    "def daily_pull():\n",
    "    \"\"\"Iterates the pull_all_from_date function over next 20 dates to save\"\"\"\n",
    "    \n",
    "    # The dates which have already been saved are saved in /Jar\n",
    "    pulled_dates=dill.load(open('Jar/pulled_dates.pkl', 'rb'))\n",
    "    \n",
    "    # The final date\n",
    "    date=max(pulled_dates)\n",
    "\n",
    "    # Pull and save the next 20 days\n",
    "    for _ in tqdm.tqdm_notebook(range(20)):\n",
    "        date+=datetime.timedelta(days=1)\n",
    "        pull_all_from_date(date)\n",
    "        pulled_dates.append(date)\n",
    "        \n",
    "    # Update the pulled dates pkl\n",
    "    dill.dump(pulled_dates, open('Jar/pulled_dates.pkl', 'wb'))"
   ]
  },
  {
   "cell_type": "markdown",
   "metadata": {},
   "source": [
    "Call the below to add 20 days of weather data to the \n",
    "Weather_Data/Raw_Data directory. \n",
    "\n",
    "N.B.\n",
    "With the Dark Sky rate limit, this can only be called once a day!"
   ]
  },
  {
   "cell_type": "code",
   "execution_count": 4,
   "metadata": {},
   "outputs": [
    {
     "data": {
      "application/vnd.jupyter.widget-view+json": {
       "model_id": "c929df3df63948f0839f398af7f01a92",
       "version_major": 2,
       "version_minor": 0
      },
      "text/html": [
       "<p>Failed to display Jupyter Widget of type <code>HBox</code>.</p>\n",
       "<p>\n",
       "  If you're reading this message in the Jupyter Notebook or JupyterLab Notebook, it may mean\n",
       "  that the widgets JavaScript is still loading. If this message persists, it\n",
       "  likely means that the widgets JavaScript library is either not installed or\n",
       "  not enabled. See the <a href=\"https://ipywidgets.readthedocs.io/en/stable/user_install.html\">Jupyter\n",
       "  Widgets Documentation</a> for setup instructions.\n",
       "</p>\n",
       "<p>\n",
       "  If you're reading this message in another frontend (for example, a static\n",
       "  rendering on GitHub or <a href=\"https://nbviewer.jupyter.org/\">NBViewer</a>),\n",
       "  it may mean that your frontend doesn't currently support widgets.\n",
       "</p>\n"
      ],
      "text/plain": [
       "HBox(children=(IntProgress(value=0, max=20), HTML(value='')))"
      ]
     },
     "metadata": {},
     "output_type": "display_data"
    },
    {
     "name": "stdout",
     "output_type": "stream",
     "text": [
      "\n"
     ]
    }
   ],
   "source": [
    "daily_pull()"
   ]
  },
  {
   "cell_type": "code",
   "execution_count": 5,
   "metadata": {},
   "outputs": [
    {
     "data": {
      "text/plain": [
       "datetime.datetime(2019, 8, 20, 0, 0)"
      ]
     },
     "execution_count": 5,
     "metadata": {},
     "output_type": "execute_result"
    }
   ],
   "source": [
    "pulled_dates=dill.load(open('Jar/pulled_dates.pkl', 'rb'))\n",
    "max(pulled_dates)"
   ]
  },
  {
   "cell_type": "code",
   "execution_count": null,
   "metadata": {},
   "outputs": [],
   "source": []
  }
 ],
 "metadata": {
  "kernelspec": {
   "display_name": "Python 3",
   "language": "python",
   "name": "python3"
  },
  "language_info": {
   "codemirror_mode": {
    "name": "ipython",
    "version": 3
   },
   "file_extension": ".py",
   "mimetype": "text/x-python",
   "name": "python",
   "nbconvert_exporter": "python",
   "pygments_lexer": "ipython3",
   "version": "3.6.2"
  }
 },
 "nbformat": 4,
 "nbformat_minor": 2
}
