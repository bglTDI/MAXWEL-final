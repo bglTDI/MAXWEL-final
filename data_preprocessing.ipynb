{
 "cells": [
  {
   "cell_type": "markdown",
   "metadata": {},
   "source": [
    "# Data Preprocessing"
   ]
  },
  {
   "cell_type": "markdown",
   "metadata": {},
   "source": [
    "## Initialization"
   ]
  },
  {
   "cell_type": "code",
   "execution_count": 1,
   "metadata": {},
   "outputs": [],
   "source": [
    "import numpy as np\n",
    "import pandas as pd\n",
    "import dill\n",
    "from tqdm import tqdm_notebook"
   ]
  },
  {
   "cell_type": "markdown",
   "metadata": {},
   "source": [
    "## Rolling Average Transformation"
   ]
  },
  {
   "cell_type": "markdown",
   "metadata": {},
   "source": [
    "We want to present the MAXWEL model with stationary timeseries data, in order to do so, we will use a 7 day rolling average.  This approach has the advantage that the rolling average (which we will model separately from the day-to-day data) changes fairly slowly, and serves as a strong proxy for seasonal effects.  "
   ]
  },
  {
   "cell_type": "markdown",
   "metadata": {},
   "source": [
    "### Demand Data"
   ]
  },
  {
   "cell_type": "code",
   "execution_count": 14,
   "metadata": {},
   "outputs": [],
   "source": [
    "def build_scaled_demand_data():\n",
    "    # Load in the relevant data\n",
    "    station_metadata_df=pd.read_csv(\"Data/Metadata/station_meta_data.csv\")\n",
    "    names=station_metadata_df['station_tag'].unique()\n",
    "    demand_data=pd.read_csv('Data/Demand_Data/Raw_Data/EIA_demand_data.csv',converters={'Unnamed: 0':pd.to_datetime})\n",
    "    demand_data=demand_data.rename(index=str, columns={\"Unnamed: 0\":'time'}).set_index('time')\n",
    "    \n",
    "    # Drop nonsense values and interpolate\n",
    "    demand_data[demand_data<0]=np.NAN\n",
    "    demand_data=demand_data.interpolate()\n",
    "    \n",
    "    #Compute the 7 day rolling average for each station\n",
    "    for name in names:\n",
    "        demand_data[f'{name}_rolling_mean']=demand_data[f'{name}_D'].rolling(7*24).mean()\n",
    "        demand_data[f'{name}_rolling_std']=demand_data[f'{name}_D'].rolling(7*24).std()\n",
    "    \n",
    "    # Drop the NaN values\n",
    "    rolling_demand_data=demand_data[7*24-1:]\n",
    "\n",
    "    # Build the stationary dataframe\n",
    "    demand_out=pd.DataFrame()\n",
    "    for name in tqdm_notebook(names):\n",
    "        demand_out[f'{name}_scaled_demand']=(rolling_demand_data[f'{name}_D']-rolling_demand_data[f'{name}_rolling_mean'])/rolling_demand_data[f'{name}_rolling_std']\n",
    "        demand_out[f'{name}_rolling_mean']=rolling_demand_data[f'{name}_rolling_mean']\n",
    "        demand_out[f'{name}_rolling_std']=rolling_demand_data[f'{name}_rolling_std']\n",
    "        demand_out[f'{name}_scaled_DA']=(rolling_demand_data[f'{name}_DF']-rolling_demand_data[f'{name}_rolling_mean'])/rolling_demand_data[f'{name}_rolling_std']\n",
    "    \n",
    "    # Output the csv\n",
    "    demand_out.to_csv('Data/Demand_Data/Processed_Data/processed_demand_with_DA.csv')"
   ]
  },
  {
   "cell_type": "code",
   "execution_count": 15,
   "metadata": {},
   "outputs": [
    {
     "data": {
      "application/vnd.jupyter.widget-view+json": {
       "model_id": "68e375a15a3340dc8d918c88822d6cf3",
       "version_major": 2,
       "version_minor": 0
      },
      "text/html": [
       "<p>Failed to display Jupyter Widget of type <code>HBox</code>.</p>\n",
       "<p>\n",
       "  If you're reading this message in the Jupyter Notebook or JupyterLab Notebook, it may mean\n",
       "  that the widgets JavaScript is still loading. If this message persists, it\n",
       "  likely means that the widgets JavaScript library is either not installed or\n",
       "  not enabled. See the <a href=\"https://ipywidgets.readthedocs.io/en/stable/user_install.html\">Jupyter\n",
       "  Widgets Documentation</a> for setup instructions.\n",
       "</p>\n",
       "<p>\n",
       "  If you're reading this message in another frontend (for example, a static\n",
       "  rendering on GitHub or <a href=\"https://nbviewer.jupyter.org/\">NBViewer</a>),\n",
       "  it may mean that your frontend doesn't currently support widgets.\n",
       "</p>\n"
      ],
      "text/plain": [
       "HBox(children=(IntProgress(value=0, max=50), HTML(value='')))"
      ]
     },
     "metadata": {},
     "output_type": "display_data"
    },
    {
     "name": "stdout",
     "output_type": "stream",
     "text": [
      "\n"
     ]
    }
   ],
   "source": [
    "build_scaled_demand_data()"
   ]
  },
  {
   "cell_type": "markdown",
   "metadata": {},
   "source": [
    "### Weather Data"
   ]
  },
  {
   "cell_type": "markdown",
   "metadata": {},
   "source": [
    "We will perform the same type of rolling average to the weather data but in this case we don't need to save the rolling average information, so the process is more straightforward."
   ]
  },
  {
   "cell_type": "code",
   "execution_count": 6,
   "metadata": {},
   "outputs": [],
   "source": [
    "def build_scaled_weather_data():\n",
    "    \"\"\"This function processes and saves all of the collated weather data\"\"\"\n",
    "    # Load in the metadata\n",
    "    station_metadata_df=pd.read_csv(\"Data/Metadata/station_meta_data.csv\")\n",
    "    city_names=list(map(lambda x:x.split(',')[0],station_metadata_df['city'].unique()))\n",
    "    \n",
    "    # Perform RA transformation on each city\n",
    "    for city in tqdm_notebook(city_names):\n",
    "        df=pd.read_csv(f'Data/Weather_Data/Collated_Data/{city}.csv')\n",
    "        out=process_weather(df)\n",
    "        out=out.interpolate().fillna(0)\n",
    "        out.to_csv(f'Data/Weather_Data/Processed_Data/{city}.csv')\n",
    "        \n",
    "def process_weather(df_in):\n",
    "    \"\"\"This function processes a single weather dataframe\"\"\"\n",
    "    \n",
    "    df_out=pd.DataFrame()\n",
    "    \n",
    "    # Select and process the desired columns\n",
    "    df_out['time']=df_in['time']\n",
    "    df_out['temperature']=shmear(df_in.temperature)\n",
    "    df_out['windspeed']=shmear(df_in.windSpeed)\n",
    "    df_out['pressure']=shmear(df_in.pressure)\n",
    "    \n",
    "    # These three columns have values in [0,1], hence we don't rescale them\n",
    "    df_out['precip']=df_in.precipProbability.fillna(0)\n",
    "    df_out['severity']=df_in.precipIntensity.fillna(0)\n",
    "    df_out['humidity']=df_in.humidity\n",
    "    \n",
    "    # Drop NaNs and interpolate\n",
    "    df_out=df_out[9*24:].interpolate()\n",
    "    df_out=df_out.set_index('time')\n",
    "    \n",
    "    return df_out\n",
    "\n",
    "def shmear(col):\n",
    "    \"\"\"This function performs the 7 day rolling average\"\"\"\n",
    "    return (col-col.rolling(7*24).mean())/(col.rolling(7*24).std())"
   ]
  },
  {
   "cell_type": "code",
   "execution_count": 7,
   "metadata": {},
   "outputs": [
    {
     "data": {
      "application/vnd.jupyter.widget-view+json": {
       "model_id": "fe8ca3ea5a0249e8b5a8ba1ba90dfe37",
       "version_major": 2,
       "version_minor": 0
      },
      "text/html": [
       "<p>Failed to display Jupyter Widget of type <code>HBox</code>.</p>\n",
       "<p>\n",
       "  If you're reading this message in the Jupyter Notebook or JupyterLab Notebook, it may mean\n",
       "  that the widgets JavaScript is still loading. If this message persists, it\n",
       "  likely means that the widgets JavaScript library is either not installed or\n",
       "  not enabled. See the <a href=\"https://ipywidgets.readthedocs.io/en/stable/user_install.html\">Jupyter\n",
       "  Widgets Documentation</a> for setup instructions.\n",
       "</p>\n",
       "<p>\n",
       "  If you're reading this message in another frontend (for example, a static\n",
       "  rendering on GitHub or <a href=\"https://nbviewer.jupyter.org/\">NBViewer</a>),\n",
       "  it may mean that your frontend doesn't currently support widgets.\n",
       "</p>\n"
      ],
      "text/plain": [
       "HBox(children=(IntProgress(value=0, max=44), HTML(value='')))"
      ]
     },
     "metadata": {},
     "output_type": "display_data"
    },
    {
     "name": "stdout",
     "output_type": "stream",
     "text": [
      "\n"
     ]
    }
   ],
   "source": [
    "build_scaled_weather_data()"
   ]
  },
  {
   "cell_type": "markdown",
   "metadata": {},
   "source": [
    "## MAXWEL Training Data"
   ]
  },
  {
   "cell_type": "markdown",
   "metadata": {},
   "source": [
    "MAXWEL takes a 24 window of demand data and weather data, and makes a 4 hour prediction. The demand data that MAXWEL recives contains the station it is training on, along with all of the interchange stations for the trainging station; i.e. the ERCO station model sees the ERCO data with all of the stations connected to the ERCO station.\n",
    "\n",
    "The following function packages this data in a csv file."
   ]
  },
  {
   "cell_type": "code",
   "execution_count": 16,
   "metadata": {},
   "outputs": [],
   "source": [
    "def build_MAXWEL_train_data():\n",
    "    \"\"\"This function assembles the final training datasets.\"\"\"\n",
    "    \n",
    "    # Load in the relevant data\n",
    "    df=pd.read_csv('Data/Demand_Data/Processed_Data/processed_demand_with_DA.csv',\n",
    "                   converters={'time':pd.to_datetime}).set_index('time')\n",
    "    station_metadata_df=pd.read_csv(\"Data/Metadata/station_meta_data.csv\" ).set_index('station_tag')\n",
    "    names=station_metadata_df.index\n",
    "\n",
    "    \n",
    "    for name in tqdm_notebook(names):\n",
    "        # Pull the appropriate weather data\n",
    "        weather_city=(station_metadata_df.loc[name].city).split(',')[0].strip()\n",
    "        weather_data=pd.read_csv(f'Data/Weather_Data/Processed_Data/{weather_city}.csv',\n",
    "                                converters={'time':pd.to_datetime}).set_index('time')\n",
    "        # Pull the appropriate interchange data\n",
    "        inter=list(filter(lambda x: x in names ,station_metadata_df.loc[name][[f'interchange_{i}' for i in range(1,16)]].values))\n",
    "        inter.append(name)\n",
    "        \n",
    "        # Join the demand and weather data, save the result\n",
    "        demand_data=df[[f'{guy}_scaled_demand' for guy in inter]]\n",
    "        join_df=pd.merge(demand_data,weather_data,how='inner',on='time')\n",
    "        join_df.to_csv(f'Data/MAXWEL_Data/{name}.csv')"
   ]
  },
  {
   "cell_type": "code",
   "execution_count": 17,
   "metadata": {},
   "outputs": [
    {
     "data": {
      "application/vnd.jupyter.widget-view+json": {
       "model_id": "a664477e8001400c815e65e350dd84df",
       "version_major": 2,
       "version_minor": 0
      },
      "text/html": [
       "<p>Failed to display Jupyter Widget of type <code>HBox</code>.</p>\n",
       "<p>\n",
       "  If you're reading this message in the Jupyter Notebook or JupyterLab Notebook, it may mean\n",
       "  that the widgets JavaScript is still loading. If this message persists, it\n",
       "  likely means that the widgets JavaScript library is either not installed or\n",
       "  not enabled. See the <a href=\"https://ipywidgets.readthedocs.io/en/stable/user_install.html\">Jupyter\n",
       "  Widgets Documentation</a> for setup instructions.\n",
       "</p>\n",
       "<p>\n",
       "  If you're reading this message in another frontend (for example, a static\n",
       "  rendering on GitHub or <a href=\"https://nbviewer.jupyter.org/\">NBViewer</a>),\n",
       "  it may mean that your frontend doesn't currently support widgets.\n",
       "</p>\n"
      ],
      "text/plain": [
       "HBox(children=(IntProgress(value=0, max=50), HTML(value='')))"
      ]
     },
     "metadata": {},
     "output_type": "display_data"
    },
    {
     "name": "stdout",
     "output_type": "stream",
     "text": [
      "\n"
     ]
    }
   ],
   "source": [
    "build_MAXWEL_train_data()"
   ]
  },
  {
   "cell_type": "code",
   "execution_count": null,
   "metadata": {},
   "outputs": [],
   "source": []
  }
 ],
 "metadata": {
  "kernelspec": {
   "display_name": "Python 3",
   "language": "python",
   "name": "python3"
  },
  "language_info": {
   "codemirror_mode": {
    "name": "ipython",
    "version": 3
   },
   "file_extension": ".py",
   "mimetype": "text/x-python",
   "name": "python",
   "nbconvert_exporter": "python",
   "pygments_lexer": "ipython3",
   "version": "3.6.2"
  }
 },
 "nbformat": 4,
 "nbformat_minor": 2
}
